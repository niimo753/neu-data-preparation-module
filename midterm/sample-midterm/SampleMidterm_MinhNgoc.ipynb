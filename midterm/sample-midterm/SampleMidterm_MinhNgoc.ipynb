{
 "cells": [
  {
   "cell_type": "markdown",
   "id": "ef64d78a",
   "metadata": {},
   "source": [
    "__SAMPLE MIDTERM 1__\n",
    "\n",
    "Full name: Nguyễn Thị Minh Ngọc\n",
    "<br>\n",
    "Student ID: 11219280\n",
    "<br>\n",
    "Class: DSEB 63"
   ]
  },
  {
   "cell_type": "code",
   "execution_count": 1,
   "id": "22089e38",
   "metadata": {},
   "outputs": [],
   "source": [
    "import pandas as pd\n",
    "import numpy as np\n",
    "import regex as re"
   ]
  },
  {
   "cell_type": "markdown",
   "id": "a2862aa5",
   "metadata": {},
   "source": [
    "# I. Demographic dataset"
   ]
  },
  {
   "cell_type": "markdown",
   "id": "c2b652e7",
   "metadata": {},
   "source": [
    "1. Read demographic.csv into a DataFrame name demo"
   ]
  },
  {
   "cell_type": "code",
   "execution_count": 2,
   "id": "45a4ef77",
   "metadata": {},
   "outputs": [
    {
     "data": {
      "text/html": [
       "<div>\n",
       "<style scoped>\n",
       "    .dataframe tbody tr th:only-of-type {\n",
       "        vertical-align: middle;\n",
       "    }\n",
       "\n",
       "    .dataframe tbody tr th {\n",
       "        vertical-align: top;\n",
       "    }\n",
       "\n",
       "    .dataframe thead th {\n",
       "        text-align: right;\n",
       "    }\n",
       "</style>\n",
       "<table border=\"1\" class=\"dataframe\">\n",
       "  <thead>\n",
       "    <tr style=\"text-align: right;\">\n",
       "      <th></th>\n",
       "      <th>age</th>\n",
       "      <th>gender</th>\n",
       "      <th>email</th>\n",
       "      <th>address</th>\n",
       "    </tr>\n",
       "  </thead>\n",
       "  <tbody>\n",
       "    <tr>\n",
       "      <th>0</th>\n",
       "      <td>18.0</td>\n",
       "      <td>M</td>\n",
       "      <td>NaN</td>\n",
       "      <td>HN</td>\n",
       "    </tr>\n",
       "    <tr>\n",
       "      <th>1</th>\n",
       "      <td>23.0</td>\n",
       "      <td>F</td>\n",
       "      <td>NaN</td>\n",
       "      <td>HP</td>\n",
       "    </tr>\n",
       "    <tr>\n",
       "      <th>2</th>\n",
       "      <td>NaN</td>\n",
       "      <td>M</td>\n",
       "      <td>abc@gmail.com</td>\n",
       "      <td>BG</td>\n",
       "    </tr>\n",
       "    <tr>\n",
       "      <th>3</th>\n",
       "      <td>40.0</td>\n",
       "      <td>NaN</td>\n",
       "      <td>qgiang.nguyen@gmail.com</td>\n",
       "      <td>BN</td>\n",
       "    </tr>\n",
       "    <tr>\n",
       "      <th>4</th>\n",
       "      <td>67.0</td>\n",
       "      <td>F</td>\n",
       "      <td>NaN</td>\n",
       "      <td>TPHCM</td>\n",
       "    </tr>\n",
       "    <tr>\n",
       "      <th>5</th>\n",
       "      <td>NaN</td>\n",
       "      <td>NaN</td>\n",
       "      <td>abc@yahoo.com.vn</td>\n",
       "      <td>BD</td>\n",
       "    </tr>\n",
       "  </tbody>\n",
       "</table>\n",
       "</div>"
      ],
      "text/plain": [
       "    age gender                    email address\n",
       "0  18.0      M                      NaN      HN\n",
       "1  23.0      F                      NaN      HP\n",
       "2   NaN      M            abc@gmail.com      BG\n",
       "3  40.0    NaN  qgiang.nguyen@gmail.com      BN\n",
       "4  67.0      F                      NaN   TPHCM\n",
       "5   NaN    NaN         abc@yahoo.com.vn      BD"
      ]
     },
     "execution_count": 2,
     "metadata": {},
     "output_type": "execute_result"
    }
   ],
   "source": [
    "demo = pd.read_csv(\"data/demographic.csv\")\n",
    "demo"
   ]
  },
  {
   "cell_type": "markdown",
   "id": "081c43fc",
   "metadata": {},
   "source": [
    "2. The email attribute contains 'abc@gmail.com' values that indicate values are missing, but they aren't represented as NaN. Replace them with NaN value"
   ]
  },
  {
   "cell_type": "code",
   "execution_count": 3,
   "id": "8384974f",
   "metadata": {},
   "outputs": [
    {
     "data": {
      "text/html": [
       "<div>\n",
       "<style scoped>\n",
       "    .dataframe tbody tr th:only-of-type {\n",
       "        vertical-align: middle;\n",
       "    }\n",
       "\n",
       "    .dataframe tbody tr th {\n",
       "        vertical-align: top;\n",
       "    }\n",
       "\n",
       "    .dataframe thead th {\n",
       "        text-align: right;\n",
       "    }\n",
       "</style>\n",
       "<table border=\"1\" class=\"dataframe\">\n",
       "  <thead>\n",
       "    <tr style=\"text-align: right;\">\n",
       "      <th></th>\n",
       "      <th>age</th>\n",
       "      <th>gender</th>\n",
       "      <th>email</th>\n",
       "      <th>address</th>\n",
       "    </tr>\n",
       "  </thead>\n",
       "  <tbody>\n",
       "    <tr>\n",
       "      <th>0</th>\n",
       "      <td>18.0</td>\n",
       "      <td>M</td>\n",
       "      <td>NaN</td>\n",
       "      <td>HN</td>\n",
       "    </tr>\n",
       "    <tr>\n",
       "      <th>1</th>\n",
       "      <td>23.0</td>\n",
       "      <td>F</td>\n",
       "      <td>NaN</td>\n",
       "      <td>HP</td>\n",
       "    </tr>\n",
       "    <tr>\n",
       "      <th>2</th>\n",
       "      <td>NaN</td>\n",
       "      <td>M</td>\n",
       "      <td>NaN</td>\n",
       "      <td>BG</td>\n",
       "    </tr>\n",
       "    <tr>\n",
       "      <th>3</th>\n",
       "      <td>40.0</td>\n",
       "      <td>NaN</td>\n",
       "      <td>qgiang.nguyen@gmail.com</td>\n",
       "      <td>BN</td>\n",
       "    </tr>\n",
       "    <tr>\n",
       "      <th>4</th>\n",
       "      <td>67.0</td>\n",
       "      <td>F</td>\n",
       "      <td>NaN</td>\n",
       "      <td>TPHCM</td>\n",
       "    </tr>\n",
       "    <tr>\n",
       "      <th>5</th>\n",
       "      <td>NaN</td>\n",
       "      <td>NaN</td>\n",
       "      <td>NaN</td>\n",
       "      <td>BD</td>\n",
       "    </tr>\n",
       "  </tbody>\n",
       "</table>\n",
       "</div>"
      ],
      "text/plain": [
       "    age gender                    email address\n",
       "0  18.0      M                      NaN      HN\n",
       "1  23.0      F                      NaN      HP\n",
       "2   NaN      M                      NaN      BG\n",
       "3  40.0    NaN  qgiang.nguyen@gmail.com      BN\n",
       "4  67.0      F                      NaN   TPHCM\n",
       "5   NaN    NaN                      NaN      BD"
      ]
     },
     "execution_count": 3,
     "metadata": {},
     "output_type": "execute_result"
    }
   ],
   "source": [
    "demo = demo.replace(\"abc@\", np.nan, regex=True)\n",
    "demo"
   ]
  },
  {
   "cell_type": "markdown",
   "id": "6fcf62e7",
   "metadata": {},
   "source": [
    "3. Calculate the total number of missing values for each column"
   ]
  },
  {
   "cell_type": "code",
   "execution_count": 4,
   "id": "cf32d7fd",
   "metadata": {},
   "outputs": [
    {
     "data": {
      "text/plain": [
       "age        2\n",
       "gender     2\n",
       "email      5\n",
       "address    0\n",
       "dtype: int64"
      ]
     },
     "execution_count": 4,
     "metadata": {},
     "output_type": "execute_result"
    }
   ],
   "source": [
    "demo.isnull().sum()"
   ]
  },
  {
   "cell_type": "markdown",
   "id": "488a7cbd",
   "metadata": {},
   "source": [
    "4. Add a new column named \"Total Null\". It should be the total number of nan values of each row."
   ]
  },
  {
   "cell_type": "code",
   "execution_count": 5,
   "id": "7dc2a933",
   "metadata": {},
   "outputs": [
    {
     "data": {
      "text/html": [
       "<div>\n",
       "<style scoped>\n",
       "    .dataframe tbody tr th:only-of-type {\n",
       "        vertical-align: middle;\n",
       "    }\n",
       "\n",
       "    .dataframe tbody tr th {\n",
       "        vertical-align: top;\n",
       "    }\n",
       "\n",
       "    .dataframe thead th {\n",
       "        text-align: right;\n",
       "    }\n",
       "</style>\n",
       "<table border=\"1\" class=\"dataframe\">\n",
       "  <thead>\n",
       "    <tr style=\"text-align: right;\">\n",
       "      <th></th>\n",
       "      <th>age</th>\n",
       "      <th>gender</th>\n",
       "      <th>email</th>\n",
       "      <th>address</th>\n",
       "      <th>Total Null</th>\n",
       "    </tr>\n",
       "  </thead>\n",
       "  <tbody>\n",
       "    <tr>\n",
       "      <th>0</th>\n",
       "      <td>18.0</td>\n",
       "      <td>M</td>\n",
       "      <td>NaN</td>\n",
       "      <td>HN</td>\n",
       "      <td>1</td>\n",
       "    </tr>\n",
       "    <tr>\n",
       "      <th>1</th>\n",
       "      <td>23.0</td>\n",
       "      <td>F</td>\n",
       "      <td>NaN</td>\n",
       "      <td>HP</td>\n",
       "      <td>1</td>\n",
       "    </tr>\n",
       "    <tr>\n",
       "      <th>2</th>\n",
       "      <td>NaN</td>\n",
       "      <td>M</td>\n",
       "      <td>NaN</td>\n",
       "      <td>BG</td>\n",
       "      <td>2</td>\n",
       "    </tr>\n",
       "    <tr>\n",
       "      <th>3</th>\n",
       "      <td>40.0</td>\n",
       "      <td>NaN</td>\n",
       "      <td>qgiang.nguyen@gmail.com</td>\n",
       "      <td>BN</td>\n",
       "      <td>1</td>\n",
       "    </tr>\n",
       "    <tr>\n",
       "      <th>4</th>\n",
       "      <td>67.0</td>\n",
       "      <td>F</td>\n",
       "      <td>NaN</td>\n",
       "      <td>TPHCM</td>\n",
       "      <td>1</td>\n",
       "    </tr>\n",
       "    <tr>\n",
       "      <th>5</th>\n",
       "      <td>NaN</td>\n",
       "      <td>NaN</td>\n",
       "      <td>NaN</td>\n",
       "      <td>BD</td>\n",
       "      <td>3</td>\n",
       "    </tr>\n",
       "  </tbody>\n",
       "</table>\n",
       "</div>"
      ],
      "text/plain": [
       "    age gender                    email address  Total Null\n",
       "0  18.0      M                      NaN      HN           1\n",
       "1  23.0      F                      NaN      HP           1\n",
       "2   NaN      M                      NaN      BG           2\n",
       "3  40.0    NaN  qgiang.nguyen@gmail.com      BN           1\n",
       "4  67.0      F                      NaN   TPHCM           1\n",
       "5   NaN    NaN                      NaN      BD           3"
      ]
     },
     "execution_count": 5,
     "metadata": {},
     "output_type": "execute_result"
    }
   ],
   "source": [
    "demo[\"Total Null\"] = demo.apply(lambda x: x.isnull().sum(), axis=1)\n",
    "demo"
   ]
  },
  {
   "cell_type": "markdown",
   "id": "215feeb8",
   "metadata": {},
   "source": [
    "5. Drop columns that contain more than 80% missing value using the dropna function"
   ]
  },
  {
   "cell_type": "code",
   "execution_count": 6,
   "id": "a2fbf5d4",
   "metadata": {},
   "outputs": [
    {
     "data": {
      "text/html": [
       "<div>\n",
       "<style scoped>\n",
       "    .dataframe tbody tr th:only-of-type {\n",
       "        vertical-align: middle;\n",
       "    }\n",
       "\n",
       "    .dataframe tbody tr th {\n",
       "        vertical-align: top;\n",
       "    }\n",
       "\n",
       "    .dataframe thead th {\n",
       "        text-align: right;\n",
       "    }\n",
       "</style>\n",
       "<table border=\"1\" class=\"dataframe\">\n",
       "  <thead>\n",
       "    <tr style=\"text-align: right;\">\n",
       "      <th></th>\n",
       "      <th>age</th>\n",
       "      <th>gender</th>\n",
       "      <th>email</th>\n",
       "      <th>address</th>\n",
       "      <th>Total Null</th>\n",
       "    </tr>\n",
       "  </thead>\n",
       "  <tbody>\n",
       "    <tr>\n",
       "      <th>0</th>\n",
       "      <td>18.0</td>\n",
       "      <td>M</td>\n",
       "      <td>NaN</td>\n",
       "      <td>HN</td>\n",
       "      <td>1</td>\n",
       "    </tr>\n",
       "    <tr>\n",
       "      <th>1</th>\n",
       "      <td>23.0</td>\n",
       "      <td>F</td>\n",
       "      <td>NaN</td>\n",
       "      <td>HP</td>\n",
       "      <td>1</td>\n",
       "    </tr>\n",
       "    <tr>\n",
       "      <th>2</th>\n",
       "      <td>NaN</td>\n",
       "      <td>M</td>\n",
       "      <td>NaN</td>\n",
       "      <td>BG</td>\n",
       "      <td>2</td>\n",
       "    </tr>\n",
       "    <tr>\n",
       "      <th>3</th>\n",
       "      <td>40.0</td>\n",
       "      <td>NaN</td>\n",
       "      <td>qgiang.nguyen@gmail.com</td>\n",
       "      <td>BN</td>\n",
       "      <td>1</td>\n",
       "    </tr>\n",
       "    <tr>\n",
       "      <th>4</th>\n",
       "      <td>67.0</td>\n",
       "      <td>F</td>\n",
       "      <td>NaN</td>\n",
       "      <td>TPHCM</td>\n",
       "      <td>1</td>\n",
       "    </tr>\n",
       "    <tr>\n",
       "      <th>5</th>\n",
       "      <td>NaN</td>\n",
       "      <td>NaN</td>\n",
       "      <td>NaN</td>\n",
       "      <td>BD</td>\n",
       "      <td>3</td>\n",
       "    </tr>\n",
       "  </tbody>\n",
       "</table>\n",
       "</div>"
      ],
      "text/plain": [
       "    age gender                    email address  Total Null\n",
       "0  18.0      M                      NaN      HN           1\n",
       "1  23.0      F                      NaN      HP           1\n",
       "2   NaN      M                      NaN      BG           2\n",
       "3  40.0    NaN  qgiang.nguyen@gmail.com      BN           1\n",
       "4  67.0      F                      NaN   TPHCM           1\n",
       "5   NaN    NaN                      NaN      BD           3"
      ]
     },
     "execution_count": 6,
     "metadata": {},
     "output_type": "execute_result"
    }
   ],
   "source": [
    "demo = demo.dropna(axis=0, thresh=demo.shape[1]*0.2)\n",
    "demo"
   ]
  },
  {
   "cell_type": "markdown",
   "id": "12a00dfb",
   "metadata": {},
   "source": [
    "6. Drop rows that contain more than two missing values using the dropna function"
   ]
  },
  {
   "cell_type": "code",
   "execution_count": 7,
   "id": "91adabaf",
   "metadata": {},
   "outputs": [
    {
     "data": {
      "text/html": [
       "<div>\n",
       "<style scoped>\n",
       "    .dataframe tbody tr th:only-of-type {\n",
       "        vertical-align: middle;\n",
       "    }\n",
       "\n",
       "    .dataframe tbody tr th {\n",
       "        vertical-align: top;\n",
       "    }\n",
       "\n",
       "    .dataframe thead th {\n",
       "        text-align: right;\n",
       "    }\n",
       "</style>\n",
       "<table border=\"1\" class=\"dataframe\">\n",
       "  <thead>\n",
       "    <tr style=\"text-align: right;\">\n",
       "      <th></th>\n",
       "      <th>age</th>\n",
       "      <th>gender</th>\n",
       "      <th>email</th>\n",
       "      <th>address</th>\n",
       "      <th>Total Null</th>\n",
       "    </tr>\n",
       "  </thead>\n",
       "  <tbody>\n",
       "    <tr>\n",
       "      <th>0</th>\n",
       "      <td>18.0</td>\n",
       "      <td>M</td>\n",
       "      <td>NaN</td>\n",
       "      <td>HN</td>\n",
       "      <td>1</td>\n",
       "    </tr>\n",
       "    <tr>\n",
       "      <th>1</th>\n",
       "      <td>23.0</td>\n",
       "      <td>F</td>\n",
       "      <td>NaN</td>\n",
       "      <td>HP</td>\n",
       "      <td>1</td>\n",
       "    </tr>\n",
       "    <tr>\n",
       "      <th>2</th>\n",
       "      <td>NaN</td>\n",
       "      <td>M</td>\n",
       "      <td>NaN</td>\n",
       "      <td>BG</td>\n",
       "      <td>2</td>\n",
       "    </tr>\n",
       "    <tr>\n",
       "      <th>3</th>\n",
       "      <td>40.0</td>\n",
       "      <td>NaN</td>\n",
       "      <td>qgiang.nguyen@gmail.com</td>\n",
       "      <td>BN</td>\n",
       "      <td>1</td>\n",
       "    </tr>\n",
       "    <tr>\n",
       "      <th>4</th>\n",
       "      <td>67.0</td>\n",
       "      <td>F</td>\n",
       "      <td>NaN</td>\n",
       "      <td>TPHCM</td>\n",
       "      <td>1</td>\n",
       "    </tr>\n",
       "  </tbody>\n",
       "</table>\n",
       "</div>"
      ],
      "text/plain": [
       "    age gender                    email address  Total Null\n",
       "0  18.0      M                      NaN      HN           1\n",
       "1  23.0      F                      NaN      HP           1\n",
       "2   NaN      M                      NaN      BG           2\n",
       "3  40.0    NaN  qgiang.nguyen@gmail.com      BN           1\n",
       "4  67.0      F                      NaN   TPHCM           1"
      ]
     },
     "execution_count": 7,
     "metadata": {},
     "output_type": "execute_result"
    }
   ],
   "source": [
    "demo = demo.dropna(axis=0, thresh=demo.shape[1]-2)\n",
    "demo"
   ]
  },
  {
   "cell_type": "markdown",
   "id": "af46d726",
   "metadata": {},
   "source": [
    "7. Reread this dataset. This time, we will fill the missing values with other values instead of dropping them.\n",
    "- Fill the missing value of the age attribute by the mean value of this attribute"
   ]
  },
  {
   "cell_type": "code",
   "execution_count": 8,
   "id": "2243c002",
   "metadata": {},
   "outputs": [
    {
     "data": {
      "text/html": [
       "<div>\n",
       "<style scoped>\n",
       "    .dataframe tbody tr th:only-of-type {\n",
       "        vertical-align: middle;\n",
       "    }\n",
       "\n",
       "    .dataframe tbody tr th {\n",
       "        vertical-align: top;\n",
       "    }\n",
       "\n",
       "    .dataframe thead th {\n",
       "        text-align: right;\n",
       "    }\n",
       "</style>\n",
       "<table border=\"1\" class=\"dataframe\">\n",
       "  <thead>\n",
       "    <tr style=\"text-align: right;\">\n",
       "      <th></th>\n",
       "      <th>age</th>\n",
       "      <th>gender</th>\n",
       "      <th>email</th>\n",
       "      <th>address</th>\n",
       "    </tr>\n",
       "  </thead>\n",
       "  <tbody>\n",
       "    <tr>\n",
       "      <th>0</th>\n",
       "      <td>18.0</td>\n",
       "      <td>M</td>\n",
       "      <td>NaN</td>\n",
       "      <td>HN</td>\n",
       "    </tr>\n",
       "    <tr>\n",
       "      <th>1</th>\n",
       "      <td>23.0</td>\n",
       "      <td>F</td>\n",
       "      <td>NaN</td>\n",
       "      <td>HP</td>\n",
       "    </tr>\n",
       "    <tr>\n",
       "      <th>2</th>\n",
       "      <td>NaN</td>\n",
       "      <td>M</td>\n",
       "      <td>abc@gmail.com</td>\n",
       "      <td>BG</td>\n",
       "    </tr>\n",
       "    <tr>\n",
       "      <th>3</th>\n",
       "      <td>40.0</td>\n",
       "      <td>NaN</td>\n",
       "      <td>qgiang.nguyen@gmail.com</td>\n",
       "      <td>BN</td>\n",
       "    </tr>\n",
       "    <tr>\n",
       "      <th>4</th>\n",
       "      <td>67.0</td>\n",
       "      <td>F</td>\n",
       "      <td>NaN</td>\n",
       "      <td>TPHCM</td>\n",
       "    </tr>\n",
       "    <tr>\n",
       "      <th>5</th>\n",
       "      <td>NaN</td>\n",
       "      <td>NaN</td>\n",
       "      <td>abc@yahoo.com.vn</td>\n",
       "      <td>BD</td>\n",
       "    </tr>\n",
       "  </tbody>\n",
       "</table>\n",
       "</div>"
      ],
      "text/plain": [
       "    age gender                    email address\n",
       "0  18.0      M                      NaN      HN\n",
       "1  23.0      F                      NaN      HP\n",
       "2   NaN      M            abc@gmail.com      BG\n",
       "3  40.0    NaN  qgiang.nguyen@gmail.com      BN\n",
       "4  67.0      F                      NaN   TPHCM\n",
       "5   NaN    NaN         abc@yahoo.com.vn      BD"
      ]
     },
     "execution_count": 8,
     "metadata": {},
     "output_type": "execute_result"
    }
   ],
   "source": [
    "demo1 = pd.read_csv(\"data/demographic.csv\")\n",
    "demo1"
   ]
  },
  {
   "cell_type": "code",
   "execution_count": 9,
   "id": "cc5c122a",
   "metadata": {},
   "outputs": [
    {
     "name": "stderr",
     "output_type": "stream",
     "text": [
      "C:\\Users\\minhn\\AppData\\Local\\Temp\\ipykernel_14156\\3428459200.py:1: FutureWarning: A value is trying to be set on a copy of a DataFrame or Series through chained assignment using an inplace method.\n",
      "The behavior will change in pandas 3.0. This inplace method will never work because the intermediate object on which we are setting values always behaves as a copy.\n",
      "\n",
      "For example, when doing 'df[col].method(value, inplace=True)', try using 'df.method({col: value}, inplace=True)' or df[col] = df[col].method(value) instead, to perform the operation inplace on the original object.\n",
      "\n",
      "\n",
      "  demo1[\"age\"].fillna(demo1[\"age\"].mean(), inplace=True)\n"
     ]
    },
    {
     "data": {
      "text/html": [
       "<div>\n",
       "<style scoped>\n",
       "    .dataframe tbody tr th:only-of-type {\n",
       "        vertical-align: middle;\n",
       "    }\n",
       "\n",
       "    .dataframe tbody tr th {\n",
       "        vertical-align: top;\n",
       "    }\n",
       "\n",
       "    .dataframe thead th {\n",
       "        text-align: right;\n",
       "    }\n",
       "</style>\n",
       "<table border=\"1\" class=\"dataframe\">\n",
       "  <thead>\n",
       "    <tr style=\"text-align: right;\">\n",
       "      <th></th>\n",
       "      <th>age</th>\n",
       "      <th>gender</th>\n",
       "      <th>email</th>\n",
       "      <th>address</th>\n",
       "    </tr>\n",
       "  </thead>\n",
       "  <tbody>\n",
       "    <tr>\n",
       "      <th>0</th>\n",
       "      <td>18.0</td>\n",
       "      <td>M</td>\n",
       "      <td>NaN</td>\n",
       "      <td>HN</td>\n",
       "    </tr>\n",
       "    <tr>\n",
       "      <th>1</th>\n",
       "      <td>23.0</td>\n",
       "      <td>F</td>\n",
       "      <td>NaN</td>\n",
       "      <td>HP</td>\n",
       "    </tr>\n",
       "    <tr>\n",
       "      <th>2</th>\n",
       "      <td>37.0</td>\n",
       "      <td>M</td>\n",
       "      <td>abc@gmail.com</td>\n",
       "      <td>BG</td>\n",
       "    </tr>\n",
       "    <tr>\n",
       "      <th>3</th>\n",
       "      <td>40.0</td>\n",
       "      <td>NaN</td>\n",
       "      <td>qgiang.nguyen@gmail.com</td>\n",
       "      <td>BN</td>\n",
       "    </tr>\n",
       "    <tr>\n",
       "      <th>4</th>\n",
       "      <td>67.0</td>\n",
       "      <td>F</td>\n",
       "      <td>NaN</td>\n",
       "      <td>TPHCM</td>\n",
       "    </tr>\n",
       "    <tr>\n",
       "      <th>5</th>\n",
       "      <td>37.0</td>\n",
       "      <td>NaN</td>\n",
       "      <td>abc@yahoo.com.vn</td>\n",
       "      <td>BD</td>\n",
       "    </tr>\n",
       "  </tbody>\n",
       "</table>\n",
       "</div>"
      ],
      "text/plain": [
       "    age gender                    email address\n",
       "0  18.0      M                      NaN      HN\n",
       "1  23.0      F                      NaN      HP\n",
       "2  37.0      M            abc@gmail.com      BG\n",
       "3  40.0    NaN  qgiang.nguyen@gmail.com      BN\n",
       "4  67.0      F                      NaN   TPHCM\n",
       "5  37.0    NaN         abc@yahoo.com.vn      BD"
      ]
     },
     "execution_count": 9,
     "metadata": {},
     "output_type": "execute_result"
    }
   ],
   "source": [
    "demo1[\"age\"].fillna(demo1[\"age\"].mean(), inplace=True)\n",
    "demo1"
   ]
  },
  {
   "cell_type": "markdown",
   "id": "7a29276c",
   "metadata": {},
   "source": [
    "- Fill the missing value of the gender attribute by the most Frequent Occurring. In the case of having more than one with the highest frequency occurring, randomly choose one between them to fill the missing value"
   ]
  },
  {
   "cell_type": "code",
   "execution_count": 10,
   "id": "d0005ecc",
   "metadata": {},
   "outputs": [
    {
     "data": {
      "text/plain": [
       "0    F\n",
       "1    M\n",
       "Name: gender, dtype: object"
      ]
     },
     "execution_count": 10,
     "metadata": {},
     "output_type": "execute_result"
    }
   ],
   "source": [
    "# value with the highest frequency occurring\n",
    "demo1['gender'].mode()"
   ]
  },
  {
   "cell_type": "code",
   "execution_count": 11,
   "id": "6c9067e5",
   "metadata": {},
   "outputs": [
    {
     "name": "stderr",
     "output_type": "stream",
     "text": [
      "C:\\Users\\minhn\\AppData\\Local\\Temp\\ipykernel_14156\\3197308182.py:1: FutureWarning: A value is trying to be set on a copy of a DataFrame or Series through chained assignment using an inplace method.\n",
      "The behavior will change in pandas 3.0. This inplace method will never work because the intermediate object on which we are setting values always behaves as a copy.\n",
      "\n",
      "For example, when doing 'df[col].method(value, inplace=True)', try using 'df.method({col: value}, inplace=True)' or df[col] = df[col].method(value) instead, to perform the operation inplace on the original object.\n",
      "\n",
      "\n",
      "  demo1['gender'].fillna(np.random.choice(demo1['gender'].mode().values), inplace=True)\n"
     ]
    },
    {
     "data": {
      "text/html": [
       "<div>\n",
       "<style scoped>\n",
       "    .dataframe tbody tr th:only-of-type {\n",
       "        vertical-align: middle;\n",
       "    }\n",
       "\n",
       "    .dataframe tbody tr th {\n",
       "        vertical-align: top;\n",
       "    }\n",
       "\n",
       "    .dataframe thead th {\n",
       "        text-align: right;\n",
       "    }\n",
       "</style>\n",
       "<table border=\"1\" class=\"dataframe\">\n",
       "  <thead>\n",
       "    <tr style=\"text-align: right;\">\n",
       "      <th></th>\n",
       "      <th>age</th>\n",
       "      <th>gender</th>\n",
       "      <th>email</th>\n",
       "      <th>address</th>\n",
       "    </tr>\n",
       "  </thead>\n",
       "  <tbody>\n",
       "    <tr>\n",
       "      <th>0</th>\n",
       "      <td>18.0</td>\n",
       "      <td>M</td>\n",
       "      <td>NaN</td>\n",
       "      <td>HN</td>\n",
       "    </tr>\n",
       "    <tr>\n",
       "      <th>1</th>\n",
       "      <td>23.0</td>\n",
       "      <td>F</td>\n",
       "      <td>NaN</td>\n",
       "      <td>HP</td>\n",
       "    </tr>\n",
       "    <tr>\n",
       "      <th>2</th>\n",
       "      <td>37.0</td>\n",
       "      <td>M</td>\n",
       "      <td>abc@gmail.com</td>\n",
       "      <td>BG</td>\n",
       "    </tr>\n",
       "    <tr>\n",
       "      <th>3</th>\n",
       "      <td>40.0</td>\n",
       "      <td>F</td>\n",
       "      <td>qgiang.nguyen@gmail.com</td>\n",
       "      <td>BN</td>\n",
       "    </tr>\n",
       "    <tr>\n",
       "      <th>4</th>\n",
       "      <td>67.0</td>\n",
       "      <td>F</td>\n",
       "      <td>NaN</td>\n",
       "      <td>TPHCM</td>\n",
       "    </tr>\n",
       "    <tr>\n",
       "      <th>5</th>\n",
       "      <td>37.0</td>\n",
       "      <td>F</td>\n",
       "      <td>abc@yahoo.com.vn</td>\n",
       "      <td>BD</td>\n",
       "    </tr>\n",
       "  </tbody>\n",
       "</table>\n",
       "</div>"
      ],
      "text/plain": [
       "    age gender                    email address\n",
       "0  18.0      M                      NaN      HN\n",
       "1  23.0      F                      NaN      HP\n",
       "2  37.0      M            abc@gmail.com      BG\n",
       "3  40.0      F  qgiang.nguyen@gmail.com      BN\n",
       "4  67.0      F                      NaN   TPHCM\n",
       "5  37.0      F         abc@yahoo.com.vn      BD"
      ]
     },
     "execution_count": 11,
     "metadata": {},
     "output_type": "execute_result"
    }
   ],
   "source": [
    "demo1['gender'].fillna(np.random.choice(demo1['gender'].mode().values), inplace=True)\n",
    "demo1"
   ]
  },
  {
   "cell_type": "markdown",
   "id": "c635a6bd",
   "metadata": {},
   "source": [
    "# II. Revenue dataset"
   ]
  },
  {
   "cell_type": "code",
   "execution_count": 12,
   "id": "411e4ba0",
   "metadata": {},
   "outputs": [
    {
     "data": {
      "text/html": [
       "<div>\n",
       "<style scoped>\n",
       "    .dataframe tbody tr th:only-of-type {\n",
       "        vertical-align: middle;\n",
       "    }\n",
       "\n",
       "    .dataframe tbody tr th {\n",
       "        vertical-align: top;\n",
       "    }\n",
       "\n",
       "    .dataframe thead th {\n",
       "        text-align: right;\n",
       "    }\n",
       "</style>\n",
       "<table border=\"1\" class=\"dataframe\">\n",
       "  <thead>\n",
       "    <tr style=\"text-align: right;\">\n",
       "      <th></th>\n",
       "      <th>CustomerID</th>\n",
       "      <th>Revenue</th>\n",
       "      <th>date</th>\n",
       "    </tr>\n",
       "  </thead>\n",
       "  <tbody>\n",
       "    <tr>\n",
       "      <th>0</th>\n",
       "      <td>R1001</td>\n",
       "      <td>30</td>\n",
       "      <td>2020-12-01</td>\n",
       "    </tr>\n",
       "    <tr>\n",
       "      <th>1</th>\n",
       "      <td>W1001</td>\n",
       "      <td>2000</td>\n",
       "      <td>2021-05-01</td>\n",
       "    </tr>\n",
       "    <tr>\n",
       "      <th>2</th>\n",
       "      <td>W1001</td>\n",
       "      <td>2200</td>\n",
       "      <td>2021-05-01</td>\n",
       "    </tr>\n",
       "    <tr>\n",
       "      <th>3</th>\n",
       "      <td>R1002</td>\n",
       "      <td>150</td>\n",
       "      <td>2021-08-01</td>\n",
       "    </tr>\n",
       "    <tr>\n",
       "      <th>4</th>\n",
       "      <td>R1003</td>\n",
       "      <td>270</td>\n",
       "      <td>2020-09-01</td>\n",
       "    </tr>\n",
       "    <tr>\n",
       "      <th>5</th>\n",
       "      <td>R1004</td>\n",
       "      <td>50</td>\n",
       "      <td>2021-12-01</td>\n",
       "    </tr>\n",
       "    <tr>\n",
       "      <th>6</th>\n",
       "      <td>R1001</td>\n",
       "      <td>100</td>\n",
       "      <td>2021-04-01</td>\n",
       "    </tr>\n",
       "    <tr>\n",
       "      <th>7</th>\n",
       "      <td>W1002</td>\n",
       "      <td>5000</td>\n",
       "      <td>2021-09-01</td>\n",
       "    </tr>\n",
       "  </tbody>\n",
       "</table>\n",
       "</div>"
      ],
      "text/plain": [
       "  CustomerID  Revenue        date\n",
       "0      R1001       30  2020-12-01\n",
       "1      W1001     2000  2021-05-01\n",
       "2      W1001     2200  2021-05-01\n",
       "3      R1002      150  2021-08-01\n",
       "4      R1003      270  2020-09-01\n",
       "5      R1004       50  2021-12-01\n",
       "6      R1001      100  2021-04-01\n",
       "7      W1002     5000  2021-09-01"
      ]
     },
     "execution_count": 12,
     "metadata": {},
     "output_type": "execute_result"
    }
   ],
   "source": [
    "reve = pd.read_csv(\"data/revenue.csv\")\n",
    "reve"
   ]
  },
  {
   "cell_type": "markdown",
   "id": "d9cdd4f9",
   "metadata": {},
   "source": [
    "1. For typing errors, in this dataset, we see that some customers' revenue appears more than once for a specific month. We need to delete one and keep the row with a larger income.\n"
   ]
  },
  {
   "cell_type": "code",
   "execution_count": 13,
   "id": "e515bf24",
   "metadata": {},
   "outputs": [
    {
     "data": {
      "text/html": [
       "<div>\n",
       "<style scoped>\n",
       "    .dataframe tbody tr th:only-of-type {\n",
       "        vertical-align: middle;\n",
       "    }\n",
       "\n",
       "    .dataframe tbody tr th {\n",
       "        vertical-align: top;\n",
       "    }\n",
       "\n",
       "    .dataframe thead th {\n",
       "        text-align: right;\n",
       "    }\n",
       "</style>\n",
       "<table border=\"1\" class=\"dataframe\">\n",
       "  <thead>\n",
       "    <tr style=\"text-align: right;\">\n",
       "      <th></th>\n",
       "      <th>CustomerID</th>\n",
       "      <th>Revenue</th>\n",
       "      <th>date</th>\n",
       "    </tr>\n",
       "  </thead>\n",
       "  <tbody>\n",
       "    <tr>\n",
       "      <th>0</th>\n",
       "      <td>R1001</td>\n",
       "      <td>30</td>\n",
       "      <td>2020-12-01</td>\n",
       "    </tr>\n",
       "    <tr>\n",
       "      <th>1</th>\n",
       "      <td>R1001</td>\n",
       "      <td>100</td>\n",
       "      <td>2021-04-01</td>\n",
       "    </tr>\n",
       "    <tr>\n",
       "      <th>2</th>\n",
       "      <td>R1002</td>\n",
       "      <td>150</td>\n",
       "      <td>2021-08-01</td>\n",
       "    </tr>\n",
       "    <tr>\n",
       "      <th>3</th>\n",
       "      <td>R1003</td>\n",
       "      <td>270</td>\n",
       "      <td>2020-09-01</td>\n",
       "    </tr>\n",
       "    <tr>\n",
       "      <th>4</th>\n",
       "      <td>R1004</td>\n",
       "      <td>50</td>\n",
       "      <td>2021-12-01</td>\n",
       "    </tr>\n",
       "    <tr>\n",
       "      <th>5</th>\n",
       "      <td>W1001</td>\n",
       "      <td>2200</td>\n",
       "      <td>2021-05-01</td>\n",
       "    </tr>\n",
       "    <tr>\n",
       "      <th>6</th>\n",
       "      <td>W1002</td>\n",
       "      <td>5000</td>\n",
       "      <td>2021-09-01</td>\n",
       "    </tr>\n",
       "  </tbody>\n",
       "</table>\n",
       "</div>"
      ],
      "text/plain": [
       "  CustomerID  Revenue        date\n",
       "0      R1001       30  2020-12-01\n",
       "1      R1001      100  2021-04-01\n",
       "2      R1002      150  2021-08-01\n",
       "3      R1003      270  2020-09-01\n",
       "4      R1004       50  2021-12-01\n",
       "5      W1001     2200  2021-05-01\n",
       "6      W1002     5000  2021-09-01"
      ]
     },
     "execution_count": 13,
     "metadata": {},
     "output_type": "execute_result"
    }
   ],
   "source": [
    "reve = reve.groupby(['CustomerID', 'date']).max('Revenue').reset_index()\n",
    "reve = reve[['CustomerID', 'Revenue', 'date']]\n",
    "reve"
   ]
  },
  {
   "cell_type": "markdown",
   "id": "b31e48f1",
   "metadata": {},
   "source": [
    "2. In this dataset, we would like to know the latest revenue created by each customer and the time. We would remove rows that contain a CustomerID already listed earlier. Do it using the drop_duplicates method."
   ]
  },
  {
   "cell_type": "code",
   "execution_count": 14,
   "id": "628b8bcb",
   "metadata": {},
   "outputs": [
    {
     "data": {
      "text/html": [
       "<div>\n",
       "<style scoped>\n",
       "    .dataframe tbody tr th:only-of-type {\n",
       "        vertical-align: middle;\n",
       "    }\n",
       "\n",
       "    .dataframe tbody tr th {\n",
       "        vertical-align: top;\n",
       "    }\n",
       "\n",
       "    .dataframe thead th {\n",
       "        text-align: right;\n",
       "    }\n",
       "</style>\n",
       "<table border=\"1\" class=\"dataframe\">\n",
       "  <thead>\n",
       "    <tr style=\"text-align: right;\">\n",
       "      <th></th>\n",
       "      <th>CustomerID</th>\n",
       "      <th>Revenue</th>\n",
       "      <th>date</th>\n",
       "    </tr>\n",
       "  </thead>\n",
       "  <tbody>\n",
       "    <tr>\n",
       "      <th>0</th>\n",
       "      <td>R1001</td>\n",
       "      <td>30</td>\n",
       "      <td>2020-12-01</td>\n",
       "    </tr>\n",
       "    <tr>\n",
       "      <th>1</th>\n",
       "      <td>R1001</td>\n",
       "      <td>100</td>\n",
       "      <td>2021-04-01</td>\n",
       "    </tr>\n",
       "    <tr>\n",
       "      <th>2</th>\n",
       "      <td>R1002</td>\n",
       "      <td>150</td>\n",
       "      <td>2021-08-01</td>\n",
       "    </tr>\n",
       "    <tr>\n",
       "      <th>3</th>\n",
       "      <td>R1003</td>\n",
       "      <td>270</td>\n",
       "      <td>2020-09-01</td>\n",
       "    </tr>\n",
       "    <tr>\n",
       "      <th>4</th>\n",
       "      <td>R1004</td>\n",
       "      <td>50</td>\n",
       "      <td>2021-12-01</td>\n",
       "    </tr>\n",
       "    <tr>\n",
       "      <th>5</th>\n",
       "      <td>W1001</td>\n",
       "      <td>2200</td>\n",
       "      <td>2021-05-01</td>\n",
       "    </tr>\n",
       "    <tr>\n",
       "      <th>6</th>\n",
       "      <td>W1002</td>\n",
       "      <td>5000</td>\n",
       "      <td>2021-09-01</td>\n",
       "    </tr>\n",
       "  </tbody>\n",
       "</table>\n",
       "</div>"
      ],
      "text/plain": [
       "  CustomerID  Revenue        date\n",
       "0      R1001       30  2020-12-01\n",
       "1      R1001      100  2021-04-01\n",
       "2      R1002      150  2021-08-01\n",
       "3      R1003      270  2020-09-01\n",
       "4      R1004       50  2021-12-01\n",
       "5      W1001     2200  2021-05-01\n",
       "6      W1002     5000  2021-09-01"
      ]
     },
     "execution_count": 14,
     "metadata": {},
     "output_type": "execute_result"
    }
   ],
   "source": [
    "# sort the dataframe by CustomerID and date respectively\n",
    "reve = reve.sort_values(by=['CustomerID', 'date'])\n",
    "reve"
   ]
  },
  {
   "cell_type": "code",
   "execution_count": 15,
   "id": "18fb6d13",
   "metadata": {},
   "outputs": [
    {
     "data": {
      "text/html": [
       "<div>\n",
       "<style scoped>\n",
       "    .dataframe tbody tr th:only-of-type {\n",
       "        vertical-align: middle;\n",
       "    }\n",
       "\n",
       "    .dataframe tbody tr th {\n",
       "        vertical-align: top;\n",
       "    }\n",
       "\n",
       "    .dataframe thead th {\n",
       "        text-align: right;\n",
       "    }\n",
       "</style>\n",
       "<table border=\"1\" class=\"dataframe\">\n",
       "  <thead>\n",
       "    <tr style=\"text-align: right;\">\n",
       "      <th></th>\n",
       "      <th>CustomerID</th>\n",
       "      <th>Revenue</th>\n",
       "      <th>date</th>\n",
       "    </tr>\n",
       "  </thead>\n",
       "  <tbody>\n",
       "    <tr>\n",
       "      <th>0</th>\n",
       "      <td>R1001</td>\n",
       "      <td>100</td>\n",
       "      <td>2021-04-01</td>\n",
       "    </tr>\n",
       "    <tr>\n",
       "      <th>1</th>\n",
       "      <td>R1002</td>\n",
       "      <td>150</td>\n",
       "      <td>2021-08-01</td>\n",
       "    </tr>\n",
       "    <tr>\n",
       "      <th>2</th>\n",
       "      <td>R1003</td>\n",
       "      <td>270</td>\n",
       "      <td>2020-09-01</td>\n",
       "    </tr>\n",
       "    <tr>\n",
       "      <th>3</th>\n",
       "      <td>R1004</td>\n",
       "      <td>50</td>\n",
       "      <td>2021-12-01</td>\n",
       "    </tr>\n",
       "    <tr>\n",
       "      <th>4</th>\n",
       "      <td>W1001</td>\n",
       "      <td>2200</td>\n",
       "      <td>2021-05-01</td>\n",
       "    </tr>\n",
       "    <tr>\n",
       "      <th>5</th>\n",
       "      <td>W1002</td>\n",
       "      <td>5000</td>\n",
       "      <td>2021-09-01</td>\n",
       "    </tr>\n",
       "  </tbody>\n",
       "</table>\n",
       "</div>"
      ],
      "text/plain": [
       "  CustomerID  Revenue        date\n",
       "0      R1001      100  2021-04-01\n",
       "1      R1002      150  2021-08-01\n",
       "2      R1003      270  2020-09-01\n",
       "3      R1004       50  2021-12-01\n",
       "4      W1001     2200  2021-05-01\n",
       "5      W1002     5000  2021-09-01"
      ]
     },
     "execution_count": 15,
     "metadata": {},
     "output_type": "execute_result"
    }
   ],
   "source": [
    "reve = reve.drop_duplicates(\"CustomerID\", keep='last', ignore_index=True)\n",
    "reve"
   ]
  },
  {
   "cell_type": "markdown",
   "id": "09e56332",
   "metadata": {},
   "source": [
    "# III. Apps dataset"
   ]
  },
  {
   "cell_type": "code",
   "execution_count": 16,
   "id": "b5421fdb",
   "metadata": {},
   "outputs": [
    {
     "data": {
      "text/html": [
       "<div>\n",
       "<style scoped>\n",
       "    .dataframe tbody tr th:only-of-type {\n",
       "        vertical-align: middle;\n",
       "    }\n",
       "\n",
       "    .dataframe tbody tr th {\n",
       "        vertical-align: top;\n",
       "    }\n",
       "\n",
       "    .dataframe thead th {\n",
       "        text-align: right;\n",
       "    }\n",
       "</style>\n",
       "<table border=\"1\" class=\"dataframe\">\n",
       "  <thead>\n",
       "    <tr style=\"text-align: right;\">\n",
       "      <th></th>\n",
       "      <th>app name</th>\n",
       "      <th>price</th>\n",
       "    </tr>\n",
       "  </thead>\n",
       "  <tbody>\n",
       "    <tr>\n",
       "      <th>0</th>\n",
       "      <td>Latlux</td>\n",
       "      <td>£49.70</td>\n",
       "    </tr>\n",
       "    <tr>\n",
       "      <th>1</th>\n",
       "      <td>Span</td>\n",
       "      <td>$12.22</td>\n",
       "    </tr>\n",
       "    <tr>\n",
       "      <th>2</th>\n",
       "      <td>Bitwolf</td>\n",
       "      <td>$17,30</td>\n",
       "    </tr>\n",
       "    <tr>\n",
       "      <th>3</th>\n",
       "      <td>Sonsing</td>\n",
       "      <td>£10.71</td>\n",
       "    </tr>\n",
       "    <tr>\n",
       "      <th>4</th>\n",
       "      <td>Zontrax</td>\n",
       "      <td>¥48.41</td>\n",
       "    </tr>\n",
       "  </tbody>\n",
       "</table>\n",
       "</div>"
      ],
      "text/plain": [
       "  app name    price\n",
       "0   Latlux   £49.70\n",
       "1     Span  $12.22 \n",
       "2  Bitwolf   $17,30\n",
       "3  Sonsing   £10.71\n",
       "4  Zontrax   ¥48.41"
      ]
     },
     "execution_count": 16,
     "metadata": {},
     "output_type": "execute_result"
    }
   ],
   "source": [
    "apps = pd.read_csv(\"data/apps.csv\", encoding=\"latin\")\n",
    "apps"
   ]
  },
  {
   "cell_type": "markdown",
   "id": "15c6c10f",
   "metadata": {},
   "source": [
    "1. Create a new column named currency whose values are the first character of the price column"
   ]
  },
  {
   "cell_type": "code",
   "execution_count": 17,
   "id": "3bf21f80",
   "metadata": {},
   "outputs": [
    {
     "data": {
      "text/html": [
       "<div>\n",
       "<style scoped>\n",
       "    .dataframe tbody tr th:only-of-type {\n",
       "        vertical-align: middle;\n",
       "    }\n",
       "\n",
       "    .dataframe tbody tr th {\n",
       "        vertical-align: top;\n",
       "    }\n",
       "\n",
       "    .dataframe thead th {\n",
       "        text-align: right;\n",
       "    }\n",
       "</style>\n",
       "<table border=\"1\" class=\"dataframe\">\n",
       "  <thead>\n",
       "    <tr style=\"text-align: right;\">\n",
       "      <th></th>\n",
       "      <th>app name</th>\n",
       "      <th>price</th>\n",
       "      <th>currency</th>\n",
       "    </tr>\n",
       "  </thead>\n",
       "  <tbody>\n",
       "    <tr>\n",
       "      <th>0</th>\n",
       "      <td>Latlux</td>\n",
       "      <td>£49.70</td>\n",
       "      <td>£</td>\n",
       "    </tr>\n",
       "    <tr>\n",
       "      <th>1</th>\n",
       "      <td>Span</td>\n",
       "      <td>$12.22</td>\n",
       "      <td>$</td>\n",
       "    </tr>\n",
       "    <tr>\n",
       "      <th>2</th>\n",
       "      <td>Bitwolf</td>\n",
       "      <td>$17,30</td>\n",
       "      <td>$</td>\n",
       "    </tr>\n",
       "    <tr>\n",
       "      <th>3</th>\n",
       "      <td>Sonsing</td>\n",
       "      <td>£10.71</td>\n",
       "      <td>£</td>\n",
       "    </tr>\n",
       "    <tr>\n",
       "      <th>4</th>\n",
       "      <td>Zontrax</td>\n",
       "      <td>¥48.41</td>\n",
       "      <td>¥</td>\n",
       "    </tr>\n",
       "  </tbody>\n",
       "</table>\n",
       "</div>"
      ],
      "text/plain": [
       "  app name   price currency\n",
       "0   Latlux  £49.70        £\n",
       "1     Span  $12.22        $\n",
       "2  Bitwolf  $17,30        $\n",
       "3  Sonsing  £10.71        £\n",
       "4  Zontrax  ¥48.41        ¥"
      ]
     },
     "execution_count": 17,
     "metadata": {},
     "output_type": "execute_result"
    }
   ],
   "source": [
    "apps[\"price\"] = apps['price'].str.strip()\n",
    "apps['currency'] = apps['price'].str.extract(\"(^\\S)\")\n",
    "apps"
   ]
  },
  {
   "cell_type": "markdown",
   "id": "f497a326",
   "metadata": {},
   "source": [
    "2. Transform the price column into floating-point number by:\n",
    "* Deleting the currency characters\n",
    "* Replacing commas by dots"
   ]
  },
  {
   "cell_type": "code",
   "execution_count": 18,
   "id": "8c0a207a",
   "metadata": {},
   "outputs": [
    {
     "data": {
      "text/html": [
       "<div>\n",
       "<style scoped>\n",
       "    .dataframe tbody tr th:only-of-type {\n",
       "        vertical-align: middle;\n",
       "    }\n",
       "\n",
       "    .dataframe tbody tr th {\n",
       "        vertical-align: top;\n",
       "    }\n",
       "\n",
       "    .dataframe thead th {\n",
       "        text-align: right;\n",
       "    }\n",
       "</style>\n",
       "<table border=\"1\" class=\"dataframe\">\n",
       "  <thead>\n",
       "    <tr style=\"text-align: right;\">\n",
       "      <th></th>\n",
       "      <th>app name</th>\n",
       "      <th>price</th>\n",
       "      <th>currency</th>\n",
       "    </tr>\n",
       "  </thead>\n",
       "  <tbody>\n",
       "    <tr>\n",
       "      <th>0</th>\n",
       "      <td>Latlux</td>\n",
       "      <td>49.70</td>\n",
       "      <td>£</td>\n",
       "    </tr>\n",
       "    <tr>\n",
       "      <th>1</th>\n",
       "      <td>Span</td>\n",
       "      <td>12.22</td>\n",
       "      <td>$</td>\n",
       "    </tr>\n",
       "    <tr>\n",
       "      <th>2</th>\n",
       "      <td>Bitwolf</td>\n",
       "      <td>17.30</td>\n",
       "      <td>$</td>\n",
       "    </tr>\n",
       "    <tr>\n",
       "      <th>3</th>\n",
       "      <td>Sonsing</td>\n",
       "      <td>10.71</td>\n",
       "      <td>£</td>\n",
       "    </tr>\n",
       "    <tr>\n",
       "      <th>4</th>\n",
       "      <td>Zontrax</td>\n",
       "      <td>48.41</td>\n",
       "      <td>¥</td>\n",
       "    </tr>\n",
       "  </tbody>\n",
       "</table>\n",
       "</div>"
      ],
      "text/plain": [
       "  app name  price currency\n",
       "0   Latlux  49.70        £\n",
       "1     Span  12.22        $\n",
       "2  Bitwolf  17.30        $\n",
       "3  Sonsing  10.71        £\n",
       "4  Zontrax  48.41        ¥"
      ]
     },
     "execution_count": 18,
     "metadata": {},
     "output_type": "execute_result"
    }
   ],
   "source": [
    "apps['price'] = apps['price'].str.replace(\"^\\D\", \"\", regex=True)\n",
    "apps['price'] = apps['price'].str.replace(\",\", \".\", regex=False)\n",
    "apps"
   ]
  },
  {
   "cell_type": "markdown",
   "id": "9b8ec940",
   "metadata": {},
   "source": [
    "* Casting the column to float"
   ]
  },
  {
   "cell_type": "code",
   "execution_count": 19,
   "id": "2ebe4bf2",
   "metadata": {},
   "outputs": [
    {
     "data": {
      "text/plain": [
       "dtype('float64')"
      ]
     },
     "execution_count": 19,
     "metadata": {},
     "output_type": "execute_result"
    }
   ],
   "source": [
    "apps[\"price\"] = apps[\"price\"].astype(\"float\")\n",
    "apps[\"price\"].dtype"
   ]
  },
  {
   "cell_type": "markdown",
   "id": "3ce678c4",
   "metadata": {},
   "source": [
    "3. Make currency column a categorical"
   ]
  },
  {
   "cell_type": "code",
   "execution_count": 20,
   "id": "1f8cfe10",
   "metadata": {},
   "outputs": [
    {
     "data": {
      "text/plain": [
       "CategoricalDtype(categories=['$', '£', '¥'], ordered=False, categories_dtype=object)"
      ]
     },
     "execution_count": 20,
     "metadata": {},
     "output_type": "execute_result"
    }
   ],
   "source": [
    "apps['currency'] = pd.Categorical(apps['currency'])\n",
    "apps['currency'].dtype"
   ]
  },
  {
   "cell_type": "markdown",
   "id": "10be0702",
   "metadata": {},
   "source": [
    "# IV. People dataset"
   ]
  },
  {
   "cell_type": "code",
   "execution_count": 21,
   "id": "2a3b6eea",
   "metadata": {},
   "outputs": [
    {
     "data": {
      "text/html": [
       "<div>\n",
       "<style scoped>\n",
       "    .dataframe tbody tr th:only-of-type {\n",
       "        vertical-align: middle;\n",
       "    }\n",
       "\n",
       "    .dataframe tbody tr th {\n",
       "        vertical-align: top;\n",
       "    }\n",
       "\n",
       "    .dataframe thead th {\n",
       "        text-align: right;\n",
       "    }\n",
       "</style>\n",
       "<table border=\"1\" class=\"dataframe\">\n",
       "  <thead>\n",
       "    <tr style=\"text-align: right;\">\n",
       "      <th></th>\n",
       "      <th>name</th>\n",
       "      <th>phone number</th>\n",
       "    </tr>\n",
       "  </thead>\n",
       "  <tbody>\n",
       "    <tr>\n",
       "      <th>0</th>\n",
       "      <td>Pernell</td>\n",
       "      <td>389440066</td>\n",
       "    </tr>\n",
       "    <tr>\n",
       "      <th>1</th>\n",
       "      <td>Milena</td>\n",
       "      <td>84914208888</td>\n",
       "    </tr>\n",
       "    <tr>\n",
       "      <th>2</th>\n",
       "      <td>Terrijo</td>\n",
       "      <td>931999666</td>\n",
       "    </tr>\n",
       "    <tr>\n",
       "      <th>3</th>\n",
       "      <td>Carmon</td>\n",
       "      <td>974768936</td>\n",
       "    </tr>\n",
       "    <tr>\n",
       "      <th>4</th>\n",
       "      <td>Cornelia</td>\n",
       "      <td>84346663333</td>\n",
       "    </tr>\n",
       "  </tbody>\n",
       "</table>\n",
       "</div>"
      ],
      "text/plain": [
       "       name  phone number\n",
       "0   Pernell     389440066\n",
       "1    Milena   84914208888\n",
       "2   Terrijo     931999666\n",
       "3    Carmon     974768936\n",
       "4  Cornelia   84346663333"
      ]
     },
     "execution_count": 21,
     "metadata": {},
     "output_type": "execute_result"
    }
   ],
   "source": [
    "people = pd.read_csv(\"data/people.csv\")\n",
    "people"
   ]
  },
  {
   "cell_type": "code",
   "execution_count": 22,
   "id": "790cb77b",
   "metadata": {},
   "outputs": [
    {
     "data": {
      "text/plain": [
       "0    0389440066\n",
       "1    0914208888\n",
       "2    0931999666\n",
       "3    0974768936\n",
       "4    0346663333\n",
       "Name: phone number, dtype: object"
      ]
     },
     "execution_count": 22,
     "metadata": {},
     "output_type": "execute_result"
    }
   ],
   "source": [
    "people['phone number'] = people['phone number'].astype('str')\n",
    "people['phone number'].apply(lambda x: '0' + x[-9::])"
   ]
  },
  {
   "cell_type": "markdown",
   "id": "51d0566b",
   "metadata": {},
   "source": [
    "# V. Birthday dataset"
   ]
  },
  {
   "cell_type": "markdown",
   "id": "73768451",
   "metadata": {},
   "source": [
    "1. Read the birthdays.csv into a DataFrame named birthdays"
   ]
  },
  {
   "cell_type": "code",
   "execution_count": 23,
   "id": "91d3f2a4",
   "metadata": {},
   "outputs": [
    {
     "data": {
      "text/html": [
       "<div>\n",
       "<style scoped>\n",
       "    .dataframe tbody tr th:only-of-type {\n",
       "        vertical-align: middle;\n",
       "    }\n",
       "\n",
       "    .dataframe tbody tr th {\n",
       "        vertical-align: top;\n",
       "    }\n",
       "\n",
       "    .dataframe thead th {\n",
       "        text-align: right;\n",
       "    }\n",
       "</style>\n",
       "<table border=\"1\" class=\"dataframe\">\n",
       "  <thead>\n",
       "    <tr style=\"text-align: right;\">\n",
       "      <th></th>\n",
       "      <th>name</th>\n",
       "      <th>adress</th>\n",
       "      <th>birthday</th>\n",
       "    </tr>\n",
       "  </thead>\n",
       "  <tbody>\n",
       "    <tr>\n",
       "      <th>0</th>\n",
       "      <td>An</td>\n",
       "      <td>HN</td>\n",
       "      <td>28.3.2019</td>\n",
       "    </tr>\n",
       "    <tr>\n",
       "      <th>1</th>\n",
       "      <td>Hang</td>\n",
       "      <td>QN</td>\n",
       "      <td>5/12/2020</td>\n",
       "    </tr>\n",
       "    <tr>\n",
       "      <th>2</th>\n",
       "      <td>Nga</td>\n",
       "      <td>BT</td>\n",
       "      <td>25-Sep-19</td>\n",
       "    </tr>\n",
       "    <tr>\n",
       "      <th>3</th>\n",
       "      <td>Anh</td>\n",
       "      <td>TB</td>\n",
       "      <td>3-Jan-19</td>\n",
       "    </tr>\n",
       "    <tr>\n",
       "      <th>4</th>\n",
       "      <td>Phuong</td>\n",
       "      <td>ND</td>\n",
       "      <td>03.08.2019</td>\n",
       "    </tr>\n",
       "  </tbody>\n",
       "</table>\n",
       "</div>"
      ],
      "text/plain": [
       "     name adress    birthday\n",
       "0      An     HN   28.3.2019\n",
       "1    Hang     QN   5/12/2020\n",
       "2     Nga     BT   25-Sep-19\n",
       "3     Anh     TB    3-Jan-19\n",
       "4  Phuong     ND  03.08.2019"
      ]
     },
     "execution_count": 23,
     "metadata": {},
     "output_type": "execute_result"
    }
   ],
   "source": [
    "birthdays = pd.read_csv(\"data/birthdays.csv\")\n",
    "birthdays"
   ]
  },
  {
   "cell_type": "markdown",
   "id": "3011a6ef",
   "metadata": {},
   "source": [
    "2. Use vectorized string methods to extract the year"
   ]
  },
  {
   "cell_type": "code",
   "execution_count": 24,
   "id": "27ea49e7",
   "metadata": {},
   "outputs": [
    {
     "data": {
      "text/html": [
       "<div>\n",
       "<style scoped>\n",
       "    .dataframe tbody tr th:only-of-type {\n",
       "        vertical-align: middle;\n",
       "    }\n",
       "\n",
       "    .dataframe tbody tr th {\n",
       "        vertical-align: top;\n",
       "    }\n",
       "\n",
       "    .dataframe thead th {\n",
       "        text-align: right;\n",
       "    }\n",
       "</style>\n",
       "<table border=\"1\" class=\"dataframe\">\n",
       "  <thead>\n",
       "    <tr style=\"text-align: right;\">\n",
       "      <th></th>\n",
       "      <th>name</th>\n",
       "      <th>adress</th>\n",
       "      <th>birthday</th>\n",
       "      <th>year</th>\n",
       "    </tr>\n",
       "  </thead>\n",
       "  <tbody>\n",
       "    <tr>\n",
       "      <th>0</th>\n",
       "      <td>An</td>\n",
       "      <td>HN</td>\n",
       "      <td>28.3.2019</td>\n",
       "      <td>2019</td>\n",
       "    </tr>\n",
       "    <tr>\n",
       "      <th>1</th>\n",
       "      <td>Hang</td>\n",
       "      <td>QN</td>\n",
       "      <td>5/12/2020</td>\n",
       "      <td>2020</td>\n",
       "    </tr>\n",
       "    <tr>\n",
       "      <th>2</th>\n",
       "      <td>Nga</td>\n",
       "      <td>BT</td>\n",
       "      <td>25-Sep-19</td>\n",
       "      <td>2019</td>\n",
       "    </tr>\n",
       "    <tr>\n",
       "      <th>3</th>\n",
       "      <td>Anh</td>\n",
       "      <td>TB</td>\n",
       "      <td>3-Jan-19</td>\n",
       "      <td>2019</td>\n",
       "    </tr>\n",
       "    <tr>\n",
       "      <th>4</th>\n",
       "      <td>Phuong</td>\n",
       "      <td>ND</td>\n",
       "      <td>03.08.2019</td>\n",
       "      <td>2019</td>\n",
       "    </tr>\n",
       "  </tbody>\n",
       "</table>\n",
       "</div>"
      ],
      "text/plain": [
       "     name adress    birthday  year\n",
       "0      An     HN   28.3.2019  2019\n",
       "1    Hang     QN   5/12/2020  2020\n",
       "2     Nga     BT   25-Sep-19  2019\n",
       "3     Anh     TB    3-Jan-19  2019\n",
       "4  Phuong     ND  03.08.2019  2019"
      ]
     },
     "execution_count": 24,
     "metadata": {},
     "output_type": "execute_result"
    }
   ],
   "source": [
    "birthdays['year'] = birthdays['birthday'].str.extract(\"(\\d+$)\")\n",
    "birthdays['year'] = birthdays['year'].apply(lambda x: '20' + x[-2::])\n",
    "birthdays"
   ]
  },
  {
   "cell_type": "markdown",
   "id": "b760f88c",
   "metadata": {},
   "source": [
    "3. User the Series.astype() method to convert the type to a float"
   ]
  },
  {
   "cell_type": "code",
   "execution_count": 25,
   "id": "45cbc53d",
   "metadata": {},
   "outputs": [
    {
     "data": {
      "text/plain": [
       "dtype('float64')"
      ]
     },
     "execution_count": 25,
     "metadata": {},
     "output_type": "execute_result"
    }
   ],
   "source": [
    "birthdays['year'] = birthdays['year'].astype(\"float\")\n",
    "birthdays['year'].dtype"
   ]
  },
  {
   "cell_type": "markdown",
   "id": "7d36f613",
   "metadata": {},
   "source": [
    "# VI. URL dataset"
   ]
  },
  {
   "cell_type": "markdown",
   "id": "9485f3c7",
   "metadata": {},
   "source": [
    "1. Read the urls.csv into a DataFrame named urls"
   ]
  },
  {
   "cell_type": "code",
   "execution_count": 26,
   "id": "46676b47",
   "metadata": {},
   "outputs": [
    {
     "data": {
      "text/html": [
       "<div>\n",
       "<style scoped>\n",
       "    .dataframe tbody tr th:only-of-type {\n",
       "        vertical-align: middle;\n",
       "    }\n",
       "\n",
       "    .dataframe tbody tr th {\n",
       "        vertical-align: top;\n",
       "    }\n",
       "\n",
       "    .dataframe thead th {\n",
       "        text-align: right;\n",
       "    }\n",
       "</style>\n",
       "<table border=\"1\" class=\"dataframe\">\n",
       "  <thead>\n",
       "    <tr style=\"text-align: right;\">\n",
       "      <th></th>\n",
       "      <th>id</th>\n",
       "      <th>url</th>\n",
       "    </tr>\n",
       "  </thead>\n",
       "  <tbody>\n",
       "    <tr>\n",
       "      <th>0</th>\n",
       "      <td>accc1111fa49</td>\n",
       "      <td>https://www.kaggle.com/datasets/teseract/urlda...</td>\n",
       "    </tr>\n",
       "    <tr>\n",
       "      <th>1</th>\n",
       "      <td>48ee0ff1ce97</td>\n",
       "      <td>https://vesta-nf.com/</td>\n",
       "    </tr>\n",
       "    <tr>\n",
       "      <th>2</th>\n",
       "      <td>006ff702f8ea</td>\n",
       "      <td>http://wordpress.com/amet.html</td>\n",
       "    </tr>\n",
       "    <tr>\n",
       "      <th>3</th>\n",
       "      <td>7fb76495700</td>\n",
       "      <td>http://qq.com/lacus/morbi/sem.jpg</td>\n",
       "    </tr>\n",
       "    <tr>\n",
       "      <th>4</th>\n",
       "      <td>a8484937dc</td>\n",
       "      <td>https://www.vndirect.com.vn/</td>\n",
       "    </tr>\n",
       "  </tbody>\n",
       "</table>\n",
       "</div>"
      ],
      "text/plain": [
       "             id                                                url\n",
       "0  accc1111fa49  https://www.kaggle.com/datasets/teseract/urlda...\n",
       "1  48ee0ff1ce97                              https://vesta-nf.com/\n",
       "2  006ff702f8ea                     http://wordpress.com/amet.html\n",
       "3   7fb76495700                  http://qq.com/lacus/morbi/sem.jpg\n",
       "4    a8484937dc                       https://www.vndirect.com.vn/"
      ]
     },
     "execution_count": 26,
     "metadata": {},
     "output_type": "execute_result"
    }
   ],
   "source": [
    "urls = pd.read_csv(\"data/urls.csv\")\n",
    "urls"
   ]
  },
  {
   "cell_type": "markdown",
   "id": "4d702ea0",
   "metadata": {},
   "source": [
    "2. Add a secure Boolean column. It should have the value True if the URL starts with HTTPs and False otherwise"
   ]
  },
  {
   "cell_type": "code",
   "execution_count": 27,
   "id": "bb236179",
   "metadata": {},
   "outputs": [
    {
     "data": {
      "text/html": [
       "<div>\n",
       "<style scoped>\n",
       "    .dataframe tbody tr th:only-of-type {\n",
       "        vertical-align: middle;\n",
       "    }\n",
       "\n",
       "    .dataframe tbody tr th {\n",
       "        vertical-align: top;\n",
       "    }\n",
       "\n",
       "    .dataframe thead th {\n",
       "        text-align: right;\n",
       "    }\n",
       "</style>\n",
       "<table border=\"1\" class=\"dataframe\">\n",
       "  <thead>\n",
       "    <tr style=\"text-align: right;\">\n",
       "      <th></th>\n",
       "      <th>id</th>\n",
       "      <th>url</th>\n",
       "      <th>secure</th>\n",
       "    </tr>\n",
       "  </thead>\n",
       "  <tbody>\n",
       "    <tr>\n",
       "      <th>0</th>\n",
       "      <td>accc1111fa49</td>\n",
       "      <td>https://www.kaggle.com/datasets/teseract/urlda...</td>\n",
       "      <td>True</td>\n",
       "    </tr>\n",
       "    <tr>\n",
       "      <th>1</th>\n",
       "      <td>48ee0ff1ce97</td>\n",
       "      <td>https://vesta-nf.com/</td>\n",
       "      <td>True</td>\n",
       "    </tr>\n",
       "    <tr>\n",
       "      <th>2</th>\n",
       "      <td>006ff702f8ea</td>\n",
       "      <td>http://wordpress.com/amet.html</td>\n",
       "      <td>False</td>\n",
       "    </tr>\n",
       "    <tr>\n",
       "      <th>3</th>\n",
       "      <td>7fb76495700</td>\n",
       "      <td>http://qq.com/lacus/morbi/sem.jpg</td>\n",
       "      <td>False</td>\n",
       "    </tr>\n",
       "    <tr>\n",
       "      <th>4</th>\n",
       "      <td>a8484937dc</td>\n",
       "      <td>https://www.vndirect.com.vn/</td>\n",
       "      <td>True</td>\n",
       "    </tr>\n",
       "  </tbody>\n",
       "</table>\n",
       "</div>"
      ],
      "text/plain": [
       "             id                                                url  secure\n",
       "0  accc1111fa49  https://www.kaggle.com/datasets/teseract/urlda...    True\n",
       "1  48ee0ff1ce97                              https://vesta-nf.com/    True\n",
       "2  006ff702f8ea                     http://wordpress.com/amet.html   False\n",
       "3   7fb76495700                  http://qq.com/lacus/morbi/sem.jpg   False\n",
       "4    a8484937dc                       https://www.vndirect.com.vn/    True"
      ]
     },
     "execution_count": 27,
     "metadata": {},
     "output_type": "execute_result"
    }
   ],
   "source": [
    "urls['secure'] = urls['url'].str.contains(\"https\")\n",
    "urls"
   ]
  },
  {
   "cell_type": "markdown",
   "id": "02f73627",
   "metadata": {},
   "source": [
    "3. Add an extension column. It should have the URL extension (all characters after the last in the URL). In our case: jpg, html"
   ]
  },
  {
   "cell_type": "code",
   "execution_count": 28,
   "id": "3c83c63e",
   "metadata": {},
   "outputs": [
    {
     "data": {
      "text/html": [
       "<div>\n",
       "<style scoped>\n",
       "    .dataframe tbody tr th:only-of-type {\n",
       "        vertical-align: middle;\n",
       "    }\n",
       "\n",
       "    .dataframe tbody tr th {\n",
       "        vertical-align: top;\n",
       "    }\n",
       "\n",
       "    .dataframe thead th {\n",
       "        text-align: right;\n",
       "    }\n",
       "</style>\n",
       "<table border=\"1\" class=\"dataframe\">\n",
       "  <thead>\n",
       "    <tr style=\"text-align: right;\">\n",
       "      <th></th>\n",
       "      <th>id</th>\n",
       "      <th>url</th>\n",
       "      <th>secure</th>\n",
       "      <th>extension</th>\n",
       "    </tr>\n",
       "  </thead>\n",
       "  <tbody>\n",
       "    <tr>\n",
       "      <th>0</th>\n",
       "      <td>accc1111fa49</td>\n",
       "      <td>https://www.kaggle.com/datasets/teseract/urlda...</td>\n",
       "      <td>True</td>\n",
       "      <td>NaN</td>\n",
       "    </tr>\n",
       "    <tr>\n",
       "      <th>1</th>\n",
       "      <td>48ee0ff1ce97</td>\n",
       "      <td>https://vesta-nf.com/</td>\n",
       "      <td>True</td>\n",
       "      <td>NaN</td>\n",
       "    </tr>\n",
       "    <tr>\n",
       "      <th>2</th>\n",
       "      <td>006ff702f8ea</td>\n",
       "      <td>http://wordpress.com/amet.html</td>\n",
       "      <td>False</td>\n",
       "      <td>html</td>\n",
       "    </tr>\n",
       "    <tr>\n",
       "      <th>3</th>\n",
       "      <td>7fb76495700</td>\n",
       "      <td>http://qq.com/lacus/morbi/sem.jpg</td>\n",
       "      <td>False</td>\n",
       "      <td>jpg</td>\n",
       "    </tr>\n",
       "    <tr>\n",
       "      <th>4</th>\n",
       "      <td>a8484937dc</td>\n",
       "      <td>https://www.vndirect.com.vn/</td>\n",
       "      <td>True</td>\n",
       "      <td>NaN</td>\n",
       "    </tr>\n",
       "  </tbody>\n",
       "</table>\n",
       "</div>"
      ],
      "text/plain": [
       "             id                                                url  secure  \\\n",
       "0  accc1111fa49  https://www.kaggle.com/datasets/teseract/urlda...    True   \n",
       "1  48ee0ff1ce97                              https://vesta-nf.com/    True   \n",
       "2  006ff702f8ea                     http://wordpress.com/amet.html   False   \n",
       "3   7fb76495700                  http://qq.com/lacus/morbi/sem.jpg   False   \n",
       "4    a8484937dc                       https://www.vndirect.com.vn/    True   \n",
       "\n",
       "  extension  \n",
       "0       NaN  \n",
       "1       NaN  \n",
       "2      html  \n",
       "3       jpg  \n",
       "4       NaN  "
      ]
     },
     "execution_count": 28,
     "metadata": {},
     "output_type": "execute_result"
    }
   ],
   "source": [
    "urls['extension'] = urls['url'].str.extract('\\.(\\w+$)')\n",
    "urls"
   ]
  }
 ],
 "metadata": {
  "kernelspec": {
   "display_name": "Python 3 (ipykernel)",
   "language": "python",
   "name": "python3"
  },
  "language_info": {
   "codemirror_mode": {
    "name": "ipython",
    "version": 3
   },
   "file_extension": ".py",
   "mimetype": "text/x-python",
   "name": "python",
   "nbconvert_exporter": "python",
   "pygments_lexer": "ipython3",
   "version": "3.11.7"
  }
 },
 "nbformat": 4,
 "nbformat_minor": 5
}
